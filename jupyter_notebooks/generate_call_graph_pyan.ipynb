{
 "cells": [
  {
   "cell_type": "code",
   "execution_count": 152,
   "metadata": {},
   "outputs": [
    {
     "ename": "KeyError",
     "evalue": "<Node function:instaloader.structures.load_structure_from_file>",
     "output_type": "error",
     "traceback": [
      "\u001b[1;31m---------------------------------------------------------------------------\u001b[0m",
      "\u001b[1;31mKeyError\u001b[0m                                  Traceback (most recent call last)",
      "Cell \u001b[1;32mIn[152], line 4\u001b[0m\n\u001b[0;32m      1\u001b[0m \u001b[38;5;28;01mimport\u001b[39;00m \u001b[38;5;21;01mpyan\u001b[39;00m\n\u001b[0;32m      2\u001b[0m \u001b[38;5;28;01mfrom\u001b[39;00m \u001b[38;5;21;01mglob\u001b[39;00m \u001b[38;5;28;01mimport\u001b[39;00m glob\n\u001b[1;32m----> 4\u001b[0m \u001b[43mpyan\u001b[49m\u001b[38;5;241;43m.\u001b[39;49m\u001b[43mcreate_callgraph\u001b[49m\u001b[43m(\u001b[49m\n\u001b[0;32m      5\u001b[0m \u001b[43m    \u001b[49m\u001b[43mfilenames\u001b[49m\u001b[38;5;241;43m=\u001b[39;49m\u001b[38;5;124;43m\"\u001b[39;49m\u001b[38;5;124;43mc:\u001b[39;49m\u001b[38;5;130;43;01m\\\\\u001b[39;49;00m\u001b[38;5;124;43mUsers\u001b[39;49m\u001b[38;5;130;43;01m\\\\\u001b[39;49;00m\u001b[38;5;124;43mharri\u001b[39;49m\u001b[38;5;130;43;01m\\\\\u001b[39;49;00m\u001b[38;5;124;43mDocuments\u001b[39;49m\u001b[38;5;130;43;01m\\\\\u001b[39;49;00m\u001b[38;5;124;43mProgramming\u001b[39;49m\u001b[38;5;130;43;01m\\\\\u001b[39;49;00m\u001b[38;5;124;43mcall_graph\u001b[39;49m\u001b[38;5;130;43;01m\\\\\u001b[39;49;00m\u001b[38;5;124;43mlibraries\u001b[39;49m\u001b[38;5;130;43;01m\\\\\u001b[39;49;00m\u001b[38;5;124;43minstaloader\u001b[39;49m\u001b[38;5;130;43;01m\\\\\u001b[39;49;00m\u001b[38;5;124;43m**\u001b[39;49m\u001b[38;5;130;43;01m\\\\\u001b[39;49;00m\u001b[38;5;124;43m*.py\u001b[39;49m\u001b[38;5;124;43m\"\u001b[39;49m\u001b[43m,\u001b[49m\n\u001b[0;32m      6\u001b[0m \u001b[43m    \u001b[49m\u001b[38;5;28;43mformat\u001b[39;49m\u001b[38;5;241;43m=\u001b[39;49m\u001b[38;5;124;43m\"\u001b[39;49m\u001b[38;5;124;43mdot\u001b[39;49m\u001b[38;5;124;43m\"\u001b[39;49m\u001b[43m,\u001b[49m\n\u001b[0;32m      7\u001b[0m \u001b[43m)\u001b[49m\n",
      "File \u001b[1;32mc:\\Users\\harri\\miniconda3\\envs\\py310_notebook_env\\lib\\site-packages\\pyan\\__init__.py:76\u001b[0m, in \u001b[0;36mcreate_callgraph\u001b[1;34m(filenames, root, function, namespace, format, rankdir, nested_groups, draw_defines, draw_uses, colored, grouped_alt, annotated, grouped, max_iter)\u001b[0m\n\u001b[0;32m     65\u001b[0m     grouped \u001b[38;5;241m=\u001b[39m \u001b[38;5;28;01mTrue\u001b[39;00m\n\u001b[0;32m     66\u001b[0m graph_options \u001b[38;5;241m=\u001b[39m {\n\u001b[0;32m     67\u001b[0m     \u001b[38;5;124m\"\u001b[39m\u001b[38;5;124mdraw_defines\u001b[39m\u001b[38;5;124m\"\u001b[39m: draw_defines,\n\u001b[0;32m     68\u001b[0m     \u001b[38;5;124m\"\u001b[39m\u001b[38;5;124mdraw_uses\u001b[39m\u001b[38;5;124m\"\u001b[39m: draw_uses,\n\u001b[1;32m   (...)\u001b[0m\n\u001b[0;32m     73\u001b[0m     \u001b[38;5;124m\"\u001b[39m\u001b[38;5;124mannotated\u001b[39m\u001b[38;5;124m\"\u001b[39m: annotated,\n\u001b[0;32m     74\u001b[0m }\n\u001b[1;32m---> 76\u001b[0m v \u001b[38;5;241m=\u001b[39m \u001b[43mCallGraphVisitor\u001b[49m\u001b[43m(\u001b[49m\u001b[43mfilenames\u001b[49m\u001b[43m,\u001b[49m\u001b[43m \u001b[49m\u001b[43mroot\u001b[49m\u001b[38;5;241;43m=\u001b[39;49m\u001b[43mroot\u001b[49m\u001b[43m)\u001b[49m\n\u001b[0;32m     77\u001b[0m \u001b[38;5;28;01mif\u001b[39;00m function \u001b[38;5;129;01mor\u001b[39;00m namespace:\n\u001b[0;32m     78\u001b[0m     \u001b[38;5;28;01mif\u001b[39;00m function:\n",
      "File \u001b[1;32mc:\\Users\\harri\\miniconda3\\envs\\py310_notebook_env\\lib\\site-packages\\pyan\\analyzer.py:85\u001b[0m, in \u001b[0;36mCallGraphVisitor.__init__\u001b[1;34m(self, filenames, root, logger)\u001b[0m\n\u001b[0;32m     82\u001b[0m \u001b[38;5;28mself\u001b[39m\u001b[38;5;241m.\u001b[39mlast_value \u001b[38;5;241m=\u001b[39m \u001b[38;5;28;01mNone\u001b[39;00m\n\u001b[0;32m     84\u001b[0m \u001b[38;5;66;03m# Analyze.\u001b[39;00m\n\u001b[1;32m---> 85\u001b[0m \u001b[38;5;28;43mself\u001b[39;49m\u001b[38;5;241;43m.\u001b[39;49m\u001b[43mprocess\u001b[49m\u001b[43m(\u001b[49m\u001b[43m)\u001b[49m\n",
      "File \u001b[1;32mc:\\Users\\harri\\miniconda3\\envs\\py310_notebook_env\\lib\\site-packages\\pyan\\analyzer.py:95\u001b[0m, in \u001b[0;36mCallGraphVisitor.process\u001b[1;34m(self)\u001b[0m\n\u001b[0;32m     93\u001b[0m     \u001b[38;5;28;01mif\u001b[39;00m pas \u001b[38;5;241m==\u001b[39m \u001b[38;5;241m0\u001b[39m:\n\u001b[0;32m     94\u001b[0m         \u001b[38;5;28mself\u001b[39m\u001b[38;5;241m.\u001b[39mresolve_base_classes()  \u001b[38;5;66;03m# must be done only after all files seen\u001b[39;00m\n\u001b[1;32m---> 95\u001b[0m \u001b[38;5;28;43mself\u001b[39;49m\u001b[38;5;241;43m.\u001b[39;49m\u001b[43mpostprocess\u001b[49m\u001b[43m(\u001b[49m\u001b[43m)\u001b[49m\n",
      "File \u001b[1;32mc:\\Users\\harri\\miniconda3\\envs\\py310_notebook_env\\lib\\site-packages\\pyan\\analyzer.py:163\u001b[0m, in \u001b[0;36mCallGraphVisitor.postprocess\u001b[1;34m(self)\u001b[0m\n\u001b[0;32m    148\u001b[0m \u001b[38;5;66;03m# Compared to the original Pyan, the ordering of expand_unknowns() and\u001b[39;00m\n\u001b[0;32m    149\u001b[0m \u001b[38;5;66;03m# contract_nonexistents() has been switched.\u001b[39;00m\n\u001b[0;32m    150\u001b[0m \u001b[38;5;66;03m#\u001b[39;00m\n\u001b[1;32m   (...)\u001b[0m\n\u001b[0;32m    159\u001b[0m \u001b[38;5;66;03m# those references that could not be resolved to any known name, and\u001b[39;00m\n\u001b[0;32m    160\u001b[0m \u001b[38;5;66;03m# then remove any references pointing outside the analyzed file set.\u001b[39;00m\n\u001b[0;32m    162\u001b[0m \u001b[38;5;28mself\u001b[39m\u001b[38;5;241m.\u001b[39mexpand_unknowns()\n\u001b[1;32m--> 163\u001b[0m \u001b[38;5;28;43mself\u001b[39;49m\u001b[38;5;241;43m.\u001b[39;49m\u001b[43mresolve_imports\u001b[49m\u001b[43m(\u001b[49m\u001b[43m)\u001b[49m\n\u001b[0;32m    164\u001b[0m \u001b[38;5;28mself\u001b[39m\u001b[38;5;241m.\u001b[39mcontract_nonexistents()\n\u001b[0;32m    165\u001b[0m \u001b[38;5;28mself\u001b[39m\u001b[38;5;241m.\u001b[39mcull_inherited()\n",
      "File \u001b[1;32mc:\\Users\\harri\\miniconda3\\envs\\py310_notebook_env\\lib\\site-packages\\pyan\\analyzer.py:222\u001b[0m, in \u001b[0;36mCallGraphVisitor.resolve_imports\u001b[1;34m(self)\u001b[0m\n\u001b[0;32m    216\u001b[0m \u001b[38;5;28;01mfor\u001b[39;00m from_node, to_node \u001b[38;5;129;01min\u001b[39;00m import_mapping\u001b[38;5;241m.\u001b[39mitems():\n\u001b[0;32m    217\u001b[0m     \u001b[38;5;28;01mif\u001b[39;00m (\n\u001b[0;32m    218\u001b[0m         \u001b[38;5;124mf\u001b[39m\u001b[38;5;124m\"\u001b[39m\u001b[38;5;132;01m{\u001b[39;00mfrom_node\u001b[38;5;241m.\u001b[39mnamespace\u001b[38;5;132;01m}\u001b[39;00m\u001b[38;5;124m.\u001b[39m\u001b[38;5;132;01m{\u001b[39;00mfrom_node\u001b[38;5;241m.\u001b[39mname\u001b[38;5;132;01m}\u001b[39;00m\u001b[38;5;124m\"\u001b[39m \u001b[38;5;241m==\u001b[39m node\u001b[38;5;241m.\u001b[39mnamespace \u001b[38;5;129;01mand\u001b[39;00m\n\u001b[0;32m    219\u001b[0m         from_node\u001b[38;5;241m.\u001b[39mflavor \u001b[38;5;241m==\u001b[39m Flavor\u001b[38;5;241m.\u001b[39mIMPORTEDITEM\n\u001b[0;32m    220\u001b[0m     ):\n\u001b[0;32m    221\u001b[0m         \u001b[38;5;66;03m# use define edges as potential candidates\u001b[39;00m\n\u001b[1;32m--> 222\u001b[0m         \u001b[38;5;28;01mfor\u001b[39;00m candidate_to_node \u001b[38;5;129;01min\u001b[39;00m \u001b[38;5;28;43mself\u001b[39;49m\u001b[38;5;241;43m.\u001b[39;49m\u001b[43mdefines_edges\u001b[49m\u001b[43m[\u001b[49m\u001b[43mto_node\u001b[49m\u001b[43m]\u001b[49m:  \u001b[38;5;66;03m#\u001b[39;00m\n\u001b[0;32m    223\u001b[0m             \u001b[38;5;28;01mif\u001b[39;00m candidate_to_node\u001b[38;5;241m.\u001b[39mname \u001b[38;5;241m==\u001b[39m node\u001b[38;5;241m.\u001b[39mname:\n\u001b[0;32m    224\u001b[0m                 attribute_import_mapping[node] \u001b[38;5;241m=\u001b[39m candidate_to_node\n",
      "\u001b[1;31mKeyError\u001b[0m: <Node function:instaloader.structures.load_structure_from_file>"
     ]
    }
   ],
   "source": [
    "import pyan\n",
    "from glob import glob\n",
    "\n",
    "pyan.create_callgraph(\n",
    "    filenames=\"c:\\\\Users\\\\harri\\\\Documents\\\\Programming\\\\call_graph\\\\libraries\\\\instaloader\\\\**\\\\*.py\",\n",
    "    format=\"dot\",\n",
    ")"
   ]
  },
  {
   "cell_type": "code",
   "execution_count": 144,
   "metadata": {},
   "outputs": [],
   "source": [
    "import os"
   ]
  },
  {
   "cell_type": "code",
   "execution_count": 145,
   "metadata": {},
   "outputs": [],
   "source": [
    "filenames = [\n",
    "    \"c:\\\\Users\\\\harri\\\\Documents\\\\Programming\\\\call_graph\\\\libraries\\\\instaloader\\\\**\\\\*.py\"\n",
    "]"
   ]
  },
  {
   "cell_type": "code",
   "execution_count": 146,
   "metadata": {},
   "outputs": [],
   "source": [
    "filenames = [fn2 for fn in filenames for fn2 in glob(fn, recursive=True)]"
   ]
  },
  {
   "cell_type": "code",
   "execution_count": 147,
   "metadata": {},
   "outputs": [],
   "source": [
    "import os\n",
    "\n",
    "# os.path.abspath(\"'libraries\\\\instaloader\\\\instaloader.py'\")"
   ]
  },
  {
   "cell_type": "code",
   "execution_count": 148,
   "metadata": {},
   "outputs": [
    {
     "data": {
      "text/plain": [
       "['c:\\\\Users\\\\harri\\\\Documents\\\\Programming\\\\call_graph\\\\libraries\\\\instaloader\\\\instaloader.py',\n",
       " 'c:\\\\Users\\\\harri\\\\Documents\\\\Programming\\\\call_graph\\\\libraries\\\\instaloader\\\\setup.py',\n",
       " 'c:\\\\Users\\\\harri\\\\Documents\\\\Programming\\\\call_graph\\\\libraries\\\\instaloader\\\\deploy\\\\windows\\\\create_exe.py',\n",
       " 'c:\\\\Users\\\\harri\\\\Documents\\\\Programming\\\\call_graph\\\\libraries\\\\instaloader\\\\docs\\\\conf.py',\n",
       " 'c:\\\\Users\\\\harri\\\\Documents\\\\Programming\\\\call_graph\\\\libraries\\\\instaloader\\\\docs\\\\sphinx_autodoc_typehints.py',\n",
       " 'c:\\\\Users\\\\harri\\\\Documents\\\\Programming\\\\call_graph\\\\libraries\\\\instaloader\\\\docs\\\\codesnippets\\\\113_only_one_per_user.py',\n",
       " 'c:\\\\Users\\\\harri\\\\Documents\\\\Programming\\\\call_graph\\\\libraries\\\\instaloader\\\\docs\\\\codesnippets\\\\120_ghost_followers.py',\n",
       " 'c:\\\\Users\\\\harri\\\\Documents\\\\Programming\\\\call_graph\\\\libraries\\\\instaloader\\\\docs\\\\codesnippets\\\\121_since_until.py',\n",
       " 'c:\\\\Users\\\\harri\\\\Documents\\\\Programming\\\\call_graph\\\\libraries\\\\instaloader\\\\docs\\\\codesnippets\\\\194_top_x_of_user.py',\n",
       " 'c:\\\\Users\\\\harri\\\\Documents\\\\Programming\\\\call_graph\\\\libraries\\\\instaloader\\\\docs\\\\codesnippets\\\\56_track_deleted.py',\n",
       " 'c:\\\\Users\\\\harri\\\\Documents\\\\Programming\\\\call_graph\\\\libraries\\\\instaloader\\\\docs\\\\codesnippets\\\\615_import_firefox_session.py',\n",
       " 'c:\\\\Users\\\\harri\\\\Documents\\\\Programming\\\\call_graph\\\\libraries\\\\instaloader\\\\docs\\\\codesnippets\\\\666_historical_hashtag_data.py',\n",
       " 'c:\\\\Users\\\\harri\\\\Documents\\\\Programming\\\\call_graph\\\\libraries\\\\instaloader\\\\instaloader\\\\exceptions.py',\n",
       " 'c:\\\\Users\\\\harri\\\\Documents\\\\Programming\\\\call_graph\\\\libraries\\\\instaloader\\\\instaloader\\\\instaloader.py',\n",
       " 'c:\\\\Users\\\\harri\\\\Documents\\\\Programming\\\\call_graph\\\\libraries\\\\instaloader\\\\instaloader\\\\instaloadercontext.py',\n",
       " 'c:\\\\Users\\\\harri\\\\Documents\\\\Programming\\\\call_graph\\\\libraries\\\\instaloader\\\\instaloader\\\\lateststamps.py',\n",
       " 'c:\\\\Users\\\\harri\\\\Documents\\\\Programming\\\\call_graph\\\\libraries\\\\instaloader\\\\instaloader\\\\nodeiterator.py',\n",
       " 'c:\\\\Users\\\\harri\\\\Documents\\\\Programming\\\\call_graph\\\\libraries\\\\instaloader\\\\instaloader\\\\sectioniterator.py',\n",
       " 'c:\\\\Users\\\\harri\\\\Documents\\\\Programming\\\\call_graph\\\\libraries\\\\instaloader\\\\instaloader\\\\structures.py',\n",
       " 'c:\\\\Users\\\\harri\\\\Documents\\\\Programming\\\\call_graph\\\\libraries\\\\instaloader\\\\instaloader\\\\__init__.py',\n",
       " 'c:\\\\Users\\\\harri\\\\Documents\\\\Programming\\\\call_graph\\\\libraries\\\\instaloader\\\\instaloader\\\\__main__.py',\n",
       " 'c:\\\\Users\\\\harri\\\\Documents\\\\Programming\\\\call_graph\\\\libraries\\\\instaloader\\\\test\\\\instaloader_unittests.py']"
      ]
     },
     "execution_count": 148,
     "metadata": {},
     "output_type": "execute_result"
    }
   ],
   "source": [
    "filenames"
   ]
  },
  {
   "cell_type": "code",
   "execution_count": 149,
   "metadata": {},
   "outputs": [],
   "source": [
    "def get_module_name(filename, root: str = None):\n",
    "    print(filename)\n",
    "\n",
    "    \"\"\"Try to determine the full module name of a source file, by figuring out\n",
    "    if its directory looks like a package (i.e. has an __init__.py file or\n",
    "    there is a .py file in it ).\"\"\"\n",
    "\n",
    "    if os.path.basename(filename) == \"__init__.py\":\n",
    "        # init file means module name is directory name\n",
    "        module_path = os.path.dirname(filename)\n",
    "    else:\n",
    "        # otherwise it is the filename without extension\n",
    "        module_path = filename.replace(\".py\", \"\")\n",
    "\n",
    "    # find the module root - walk up the tree and check if it contains .py files - if yes. it is the new root\n",
    "    directories = [(module_path, True)]\n",
    "    # print(\"Module path:\", module_path)\n",
    "    # print(\"Directories:\", directories)\n",
    "\n",
    "    if root is None:\n",
    "        while directories[0][0] != os.path.dirname(directories[0][0]):\n",
    "            potential_root = os.path.dirname(directories[0][0])\n",
    "            # print(\"Potential Root:\", potential_root)\n",
    "            # print(\"Directory:\", directories[0][0])\n",
    "            is_root = any([f == \"__init__.py\" for f in os.listdir(potential_root)])\n",
    "            directories.insert(0, (potential_root, is_root))\n",
    "\n",
    "        # keep directories where itself of parent is root\n",
    "        while not directories[0][1]:\n",
    "            directories.pop(0)\n",
    "\n",
    "    else:  # root is already known - just walk up until it is matched\n",
    "        while directories[0][0] != root:\n",
    "            potential_root = os.path.dirname(directories[0][0])\n",
    "            directories.insert(0, (potential_root, True))\n",
    "\n",
    "    mod_name = \".\".join([os.path.basename(f[0]) for f in directories])\n",
    "    return mod_name"
   ]
  },
  {
   "cell_type": "code",
   "execution_count": 150,
   "metadata": {},
   "outputs": [
    {
     "name": "stdout",
     "output_type": "stream",
     "text": [
      "c:\\Users\\harri\\Documents\\Programming\\call_graph\\libraries\\instaloader\\instaloader.py\n",
      "c:\\Users\\harri\\Documents\\Programming\\call_graph\\libraries\\instaloader\\setup.py\n",
      "c:\\Users\\harri\\Documents\\Programming\\call_graph\\libraries\\instaloader\\deploy\\windows\\create_exe.py\n",
      "c:\\Users\\harri\\Documents\\Programming\\call_graph\\libraries\\instaloader\\docs\\conf.py\n",
      "c:\\Users\\harri\\Documents\\Programming\\call_graph\\libraries\\instaloader\\docs\\sphinx_autodoc_typehints.py\n",
      "c:\\Users\\harri\\Documents\\Programming\\call_graph\\libraries\\instaloader\\docs\\codesnippets\\113_only_one_per_user.py\n",
      "c:\\Users\\harri\\Documents\\Programming\\call_graph\\libraries\\instaloader\\docs\\codesnippets\\120_ghost_followers.py\n",
      "c:\\Users\\harri\\Documents\\Programming\\call_graph\\libraries\\instaloader\\docs\\codesnippets\\121_since_until.py\n",
      "c:\\Users\\harri\\Documents\\Programming\\call_graph\\libraries\\instaloader\\docs\\codesnippets\\194_top_x_of_user.py\n",
      "c:\\Users\\harri\\Documents\\Programming\\call_graph\\libraries\\instaloader\\docs\\codesnippets\\56_track_deleted.py\n",
      "c:\\Users\\harri\\Documents\\Programming\\call_graph\\libraries\\instaloader\\docs\\codesnippets\\615_import_firefox_session.py\n",
      "c:\\Users\\harri\\Documents\\Programming\\call_graph\\libraries\\instaloader\\docs\\codesnippets\\666_historical_hashtag_data.py\n",
      "c:\\Users\\harri\\Documents\\Programming\\call_graph\\libraries\\instaloader\\instaloader\\exceptions.py\n",
      "c:\\Users\\harri\\Documents\\Programming\\call_graph\\libraries\\instaloader\\instaloader\\instaloader.py\n",
      "c:\\Users\\harri\\Documents\\Programming\\call_graph\\libraries\\instaloader\\instaloader\\instaloadercontext.py\n",
      "c:\\Users\\harri\\Documents\\Programming\\call_graph\\libraries\\instaloader\\instaloader\\lateststamps.py\n",
      "c:\\Users\\harri\\Documents\\Programming\\call_graph\\libraries\\instaloader\\instaloader\\nodeiterator.py\n",
      "c:\\Users\\harri\\Documents\\Programming\\call_graph\\libraries\\instaloader\\instaloader\\sectioniterator.py\n",
      "c:\\Users\\harri\\Documents\\Programming\\call_graph\\libraries\\instaloader\\instaloader\\structures.py\n",
      "c:\\Users\\harri\\Documents\\Programming\\call_graph\\libraries\\instaloader\\instaloader\\__init__.py\n",
      "c:\\Users\\harri\\Documents\\Programming\\call_graph\\libraries\\instaloader\\instaloader\\__main__.py\n",
      "c:\\Users\\harri\\Documents\\Programming\\call_graph\\libraries\\instaloader\\test\\instaloader_unittests.py\n"
     ]
    }
   ],
   "source": [
    "module_names = []\n",
    "for filename in filenames:\n",
    "    module_names.append(get_module_name(filename))"
   ]
  },
  {
   "cell_type": "code",
   "execution_count": 151,
   "metadata": {},
   "outputs": [
    {
     "data": {
      "text/plain": [
       "['instaloader',\n",
       " 'setup',\n",
       " 'create_exe',\n",
       " 'conf',\n",
       " 'sphinx_autodoc_typehints',\n",
       " '113_only_one_per_user',\n",
       " '120_ghost_followers',\n",
       " '121_since_until',\n",
       " '194_top_x_of_user',\n",
       " '56_track_deleted',\n",
       " '615_import_firefox_session',\n",
       " '666_historical_hashtag_data',\n",
       " 'instaloader.exceptions',\n",
       " 'instaloader.instaloader',\n",
       " 'instaloader.instaloadercontext',\n",
       " 'instaloader.lateststamps',\n",
       " 'instaloader.nodeiterator',\n",
       " 'instaloader.sectioniterator',\n",
       " 'instaloader.structures',\n",
       " 'instaloader',\n",
       " 'instaloader.__main__',\n",
       " 'instaloader_unittests']"
      ]
     },
     "execution_count": 151,
     "metadata": {},
     "output_type": "execute_result"
    }
   ],
   "source": [
    "module_names"
   ]
  },
  {
   "cell_type": "code",
   "execution_count": null,
   "metadata": {},
   "outputs": [],
   "source": []
  }
 ],
 "metadata": {
  "kernelspec": {
   "display_name": "py310_notebook_env",
   "language": "python",
   "name": "python3"
  },
  "language_info": {
   "codemirror_mode": {
    "name": "ipython",
    "version": 3
   },
   "file_extension": ".py",
   "mimetype": "text/x-python",
   "name": "python",
   "nbconvert_exporter": "python",
   "pygments_lexer": "ipython3",
   "version": "3.10.10"
  }
 },
 "nbformat": 4,
 "nbformat_minor": 2
}
