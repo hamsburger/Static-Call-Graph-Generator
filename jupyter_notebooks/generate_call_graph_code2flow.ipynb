{
 "cells": [
  {
   "cell_type": "markdown",
   "metadata": {},
   "source": [
    "## Generate CallGraph using Code2Flow"
   ]
  },
  {
   "cell_type": "code",
   "execution_count": 121,
   "metadata": {},
   "outputs": [],
   "source": [
    "from code2flow import code2flow as code2flow_method"
   ]
  },
  {
   "cell_type": "code",
   "execution_count": 122,
   "metadata": {},
   "outputs": [],
   "source": [
    "from glob import glob\n",
    "\n",
    "fn = \"libraries/instaloader/instaloader/**/*.py\"\n",
    "filenames = glob(fn, recursive=True)"
   ]
  },
  {
   "cell_type": "code",
   "execution_count": 123,
   "metadata": {},
   "outputs": [
    {
     "name": "stderr",
     "output_type": "stream",
     "text": [
      "Code2Flow: Found 9 files from sources argument.\n",
      "Code2Flow: Implicitly detected language as 'py'.\n",
      "Code2Flow: Processing 9 source file(s).\n",
      "Code2Flow:   libraries/instaloader/instaloader\\__init__.py\n",
      "Code2Flow:   libraries/instaloader/instaloader\\__main__.py\n",
      "Code2Flow:   libraries/instaloader/instaloader\\exceptions.py\n",
      "Code2Flow:   libraries/instaloader/instaloader\\instaloader.py\n",
      "Code2Flow:   libraries/instaloader/instaloader\\instaloadercontext.py\n",
      "Code2Flow:   libraries/instaloader/instaloader\\lateststamps.py\n",
      "Code2Flow:   libraries/instaloader/instaloader\\nodeiterator.py\n",
      "Code2Flow:   libraries/instaloader/instaloader\\sectioniterator.py\n",
      "Code2Flow:   libraries/instaloader/instaloader\\structures.py\n",
      "Code2Flow: Found groups ['File: __init__', 'File: __main__', 'File: exceptions', 'Class: InstaloaderException', 'Class: QueryReturnedBadRequestException', 'Class: QueryReturnedForbiddenException', 'Class: ProfileNotExistsException', 'Class: ProfileHasNoPicsException', 'Class: PrivateProfileNotFollowedException', 'Class: LoginRequiredException', 'Class: TwoFactorAuthRequiredException', 'Class: InvalidArgumentException', 'Class: BadResponseException', 'Class: BadCredentialsException', 'Class: ConnectionException', 'Class: PostChangedException', 'Class: QueryReturnedNotFoundException', 'Class: TooManyRequestsException', 'Class: IPhoneSupportDisabledException', 'Class: AbortDownloadException', 'File: instaloader', 'Class: _ArbitraryItemFormatter', 'Class: _PostPathFormatter', 'Class: Instaloader', 'File: instaloadercontext', 'Class: InstaloaderContext', 'Class: RateController', 'File: lateststamps', 'Class: LatestStamps', 'File: nodeiterator', 'Class: FrozenNodeIterator', 'Class: NodeIterator', 'File: sectioniterator', 'Class: SectionIterator', 'File: structures', 'Class: PostSidecarNode', 'Class: PostCommentAnswer', 'Class: PostComment', 'Class: PostLocation', 'Class: Post', 'Class: Profile', 'Class: StoryItem', 'Class: Story', 'Class: Highlight', 'Class: Hashtag', 'Class: TopSearchResults', 'Class: TitlePic'].\n",
      "Code2Flow: Found nodes ['(global)', '(global)', '(global)', '(global)', '(global)', '(global)', '(global)', '(global)', '(global)', 'Hashtag.__eq__', 'Hashtag.__hash__', 'Hashtag.__init__', 'Hashtag.__repr__', 'Hashtag._asdict', 'Hashtag._metadata', 'Hashtag._obtain_metadata', 'Hashtag._query', 'Hashtag.allow_following', 'Hashtag.description', 'Hashtag.from_name', 'Hashtag.get_all_posts', 'Hashtag.get_posts', 'Hashtag.get_posts_resumable', 'Hashtag.get_top_posts', 'Hashtag.hashtagid', 'Hashtag.is_following', 'Hashtag.mediacount', 'Hashtag.name', 'Hashtag.profile_pic_url', 'Highlight.__init__', 'Highlight.__repr__', 'Highlight._fetch_iphone_struct', 'Highlight._fetch_items', 'Highlight.cover_cropped_url', 'Highlight.cover_url', 'Highlight.get_items', 'Highlight.itemcount', 'Highlight.owner_profile', 'Highlight.title', 'Highlight.unique_id', 'Instaloader.__enter__', 'Instaloader.__exit__', 'Instaloader.__init__', 'Instaloader.__prepare_filename', 'Instaloader._get_id_filename', 'Instaloader.anonymous_copy', 'Instaloader.check_profile_id', 'Instaloader.close', 'Instaloader.download_feed_posts', 'Instaloader.download_hashtag', 'Instaloader.download_hashtag_profilepic', 'Instaloader.download_highlight_cover', 'Instaloader.download_highlights', 'Instaloader.download_igtv', 'Instaloader.download_location', 'Instaloader.download_pic', 'Instaloader.download_post', 'Instaloader.download_profile', 'Instaloader.download_profilepic', 'Instaloader.download_profilepic_if_new', 'Instaloader.download_profiles', 'Instaloader.download_saved_posts', 'Instaloader.download_stories', 'Instaloader.download_storyitem', 'Instaloader.download_tagged', 'Instaloader.download_title_pic', 'Instaloader.format_filename', 'Instaloader.format_filename_within_target_path', 'Instaloader.get_explore_posts', 'Instaloader.get_feed_posts', 'Instaloader.get_hashtag_posts', 'Instaloader.get_highlights', 'Instaloader.get_location_posts', 'Instaloader.get_stories', 'Instaloader.interactive_login', 'Instaloader.load_profile_id', 'Instaloader.load_session', 'Instaloader.load_session_from_file', 'Instaloader.login', 'Instaloader.posts_download_loop', 'Instaloader.save_caption', 'Instaloader.save_location', 'Instaloader.save_metadata_json', 'Instaloader.save_profile_id', 'Instaloader.save_session', 'Instaloader.save_session_to_file', 'Instaloader.test_login', 'Instaloader.two_factor_login', 'Instaloader.update_comments', 'InstaloaderContext.__init__', 'InstaloaderContext._default_http_header', 'InstaloaderContext.anonymous_copy', 'InstaloaderContext.close', 'InstaloaderContext.do_sleep', 'InstaloaderContext.error', 'InstaloaderContext.error_catcher', 'InstaloaderContext.get_and_write_raw', 'InstaloaderContext.get_anonymous_session', 'InstaloaderContext.get_iphone_json', 'InstaloaderContext.get_json', 'InstaloaderContext.get_raw', 'InstaloaderContext.graphql_node_list', 'InstaloaderContext.graphql_query', 'InstaloaderContext.head', 'InstaloaderContext.is_logged_in', 'InstaloaderContext.load_session', 'InstaloaderContext.load_session_from_file', 'InstaloaderContext.log', 'InstaloaderContext.login', 'InstaloaderContext.root_rhx_gis', 'InstaloaderContext.save_session', 'InstaloaderContext.save_session_to_file', 'InstaloaderContext.test_login', 'InstaloaderContext.two_factor_login', 'InstaloaderContext.write_raw', 'LatestStamps.__init__', 'LatestStamps._ensure_section', 'LatestStamps._get_timestamp', 'LatestStamps._save', 'LatestStamps._set_timestamp', 'LatestStamps.get_last_igtv_timestamp', 'LatestStamps.get_last_post_timestamp', 'LatestStamps.get_last_story_timestamp', 'LatestStamps.get_last_tagged_timestamp', 'LatestStamps.get_profile_id', 'LatestStamps.get_profile_pic', 'LatestStamps.rename_profile', 'LatestStamps.save_profile_id', 'LatestStamps.set_last_igtv_timestamp', 'LatestStamps.set_last_post_timestamp', 'LatestStamps.set_last_story_timestamp', 'LatestStamps.set_last_tagged_timestamp', 'LatestStamps.set_profile_pic', 'NodeIterator.__init__', 'NodeIterator.__iter__', 'NodeIterator.__next__', 'NodeIterator._query', 'NodeIterator.count', 'NodeIterator.first_item', 'NodeIterator.freeze', 'NodeIterator.magic', 'NodeIterator.thaw', 'NodeIterator.total_index', 'Post.__eq__', 'Post.__hash__', 'Post.__init__', 'Post.__repr__', 'Post._asdict', 'Post._field', 'Post._full_metadata', 'Post._get_timestamp_date_created', 'Post._iphone_struct', 'Post._obtain_metadata', 'Post.accessibility_caption', 'Post.caption', 'Post.caption_hashtags', 'Post.caption_mentions', 'Post.comments', 'Post.date', 'Post.date_local', 'Post.date_utc', 'Post.from_iphone_struct', 'Post.from_mediaid', 'Post.from_shortcode', 'Post.get_comments', 'Post.get_is_videos', 'Post.get_likes', 'Post.get_sidecar_nodes', 'Post.is_pinned', 'Post.is_sponsored', 'Post.is_video', 'Post.likes', 'Post.location', 'Post.mediacount', 'Post.mediaid', 'Post.mediaid_to_shortcode', 'Post.owner_id', 'Post.owner_profile', 'Post.owner_username', 'Post.pcaption', 'Post.profile', 'Post.shortcode', 'Post.shortcode_to_mediaid', 'Post.sponsor_users', 'Post.supported_graphql_types', 'Post.tagged_users', 'Post.title', 'Post.typename', 'Post.url', 'Post.video_duration', 'Post.video_url', 'Post.video_view_count', 'Post.viewer_has_liked', 'Profile.__eq__', 'Profile.__hash__', 'Profile.__init__', 'Profile.__repr__', 'Profile._asdict', 'Profile._iphone_struct', 'Profile._make_is_newest_checker', 'Profile._metadata', 'Profile._obtain_metadata', 'Profile.biography', 'Profile.biography_hashtags', 'Profile.biography_mentions', 'Profile.blocked_by_viewer', 'Profile.business_category_name', 'Profile.external_url', 'Profile.followed_by_viewer', 'Profile.followees', 'Profile.followers', 'Profile.follows_viewer', 'Profile.from_id', 'Profile.from_iphone_struct', 'Profile.from_username', 'Profile.full_name', 'Profile.get_followed_hashtags', 'Profile.get_followees', 'Profile.get_followers', 'Profile.get_igtv_posts', 'Profile.get_posts', 'Profile.get_profile_pic_url', 'Profile.get_saved_posts', 'Profile.get_similar_accounts', 'Profile.get_tagged_posts', 'Profile.has_blocked_viewer', 'Profile.has_highlight_reels', 'Profile.has_public_story', 'Profile.has_requested_viewer', 'Profile.has_viewable_story', 'Profile.igtvcount', 'Profile.is_business_account', 'Profile.is_private', 'Profile.is_verified', 'Profile.mediacount', 'Profile.own_profile', 'Profile.profile_pic_url', 'Profile.profile_pic_url_no_iphone', 'Profile.requested_by_viewer', 'Profile.userid', 'Profile.username', 'RateController.__init__', 'RateController._dump_query_timestamps', 'RateController._reqs_in_sliding_window', 'RateController.count_per_sliding_window', 'RateController.handle_429', 'RateController.query_waittime', 'RateController.sleep', 'RateController.wait_before_query', 'SectionIterator.__init__', 'SectionIterator.__iter__', 'SectionIterator.__next__', 'SectionIterator._query', 'Story.__eq__', 'Story.__hash__', 'Story.__init__', 'Story.__repr__', 'Story._fetch_iphone_struct', 'Story.get_items', 'Story.itemcount', 'Story.last_seen_local', 'Story.last_seen_utc', 'Story.latest_media_local', 'Story.latest_media_utc', 'Story.owner_id', 'Story.owner_profile', 'Story.owner_username', 'Story.unique_id', 'StoryItem.__eq__', 'StoryItem.__hash__', 'StoryItem.__init__', 'StoryItem.__repr__', 'StoryItem._asdict', 'StoryItem._iphone_struct', 'StoryItem.caption', 'StoryItem.caption_hashtags', 'StoryItem.caption_mentions', 'StoryItem.date', 'StoryItem.date_local', 'StoryItem.date_utc', 'StoryItem.expiring_local', 'StoryItem.expiring_utc', 'StoryItem.from_mediaid', 'StoryItem.is_video', 'StoryItem.mediaid', 'StoryItem.owner_id', 'StoryItem.owner_profile', 'StoryItem.owner_username', 'StoryItem.pcaption', 'StoryItem.profile', 'StoryItem.shortcode', 'StoryItem.typename', 'StoryItem.url', 'StoryItem.video_url', 'TitlePic.__init__', 'TitlePic.date', 'TitlePic.date_local', 'TitlePic.date_utc', 'TitlePic.filename', 'TitlePic.owner_id', 'TitlePic.owner_username', 'TitlePic.profile', 'TitlePic.target', 'TitlePic.typename', 'TopSearchResults.__init__', 'TopSearchResults.get_hashtag_strings', 'TopSearchResults.get_hashtags', 'TopSearchResults.get_locations', 'TopSearchResults.get_prefixed_usernames', 'TopSearchResults.get_profiles', 'TopSearchResults.searchstring', '_ArbitraryItemFormatter.__init__', '_ArbitraryItemFormatter.format_field', '_ArbitraryItemFormatter.get_value', '_PostPathFormatter.__init__', '_PostPathFormatter.get_value', '_PostPathFormatter.sanitize_path', '_get_config_dir', '_main', '_optional_normalize', '_requires_login', '_retry_on_connection_error', 'copy_session', 'default_iphone_headers', 'default_user_agent', 'filterstr_to_filterfunc', 'format_string_contains_key', 'get_default_session_filename', 'get_default_stamps_filename', 'get_json_structure', 'get_legacy_session_filename', 'http_status_code_list', 'load_structure', 'load_structure_from_file', 'main', 'resumable_iteration', 'save_structure_to_file', 'usage_string'].\n",
      "Code2Flow: Found calls ['AbortDownloadException()', 'ArgumentParser()', 'ArgumentTypeError()', 'BadCredentialsException()', 'BadResponseException()', 'BytesIO()', 'ConnectionException()', 'FrozenNodeIterator()', 'Hashtag()', 'Hashtag.from_name()', 'Highlight()', 'IPhoneSupportDisabledException()', 'Instaloader()', 'InstaloaderContext()', 'InvalidArgumentException()', 'LatestStamps()', 'LoginRequiredException()', 'NodeIterator()', 'Path()', 'Post()', 'Post.from_iphone_struct()', 'Post.from_shortcode()', 'Post.mediaid_to_shortcode()', 'Post.supported_graphql_types()', 'PostComment()', 'PostCommentAnswer()', 'PostLocation()', 'PostSidecarNode()', 'PrivateProfileNotFollowedException()', 'Profile()', 'Profile._make_is_newest_checker()', 'Profile.from_id()', 'Profile.from_iphone_struct()', 'Profile.from_username()', 'Profile.own_profile()', 'ProfileNotExistsException()', 'QueryReturnedBadRequestException()', 'QueryReturnedForbiddenException()', 'QueryReturnedNotFoundException()', 'RateController()', 'SectionIterator()', 'StopIteration()', 'Story()', 'StoryItem()', 'SystemExit()', 'TitlePic()', 'TooManyRequestsException()', 'TopSearchResults()', 'TransformFilterAst()', 'TwoFactorAuthRequiredException()', 'TypeVar()', 'UNKNOWN_VAR.__init__()', 'UNKNOWN_VAR.astimezone()', 'UNKNOWN_VAR.copy()', 'UNKNOWN_VAR.decode()', 'UNKNOWN_VAR.encode()', 'UNKNOWN_VAR.format()', 'UNKNOWN_VAR.format_field()', 'UNKNOWN_VAR.get()', 'UNKNOWN_VAR.get_posts_resumable()', 'UNKNOWN_VAR.get_saved_posts()', 'UNKNOWN_VAR.get_value()', 'UNKNOWN_VAR.hexdigest()', 'UNKNOWN_VAR.join()', 'UNKNOWN_VAR.lower()', 'UNKNOWN_VAR.lstrip()', 'UNKNOWN_VAR.parse()', 'UNKNOWN_VAR.replace()', 'UNKNOWN_VAR.rstrip()', 'UNKNOWN_VAR.split()', 'UNKNOWN_VAR.strip()', 'UNKNOWN_VAR.timestamp()', 'UNKNOWN_VAR.utcoffset()', 'UNKNOWN_VAR.visit()', '_ArbitraryItemFormatter()', '_PostPathFormatter()', '_PostPathFormatter.sanitize_path()', '_all_already_downloaded()', '_already_downloaded()', '_elliptify()', '_get_config_dir()', '_hashtag_regex.findall()', '_main()', '_mention_regex.findall()', '_optional_normalize()', '_postcomment()', '_postcomment_asdict()', '_postcommentanswer()', '_postcommentanswer_asdict()', '_postcommentanswers()', '_query()', '_userid_chunks()', 'anonymous_loader.check_profile_id()', 'anonymous_loader.download_profiles()', 'anonymous_retry_profiles.add()', 'anonymous_session.get()', 'anonymous_session.head()', 'any()', 'args.lower()', 'ast.Attribute()', 'ast.Load()', 'ast.Name()', 'ast.copy_location()', 'ast.parse()', 'b64decode()', 'b64encode()', 'base64.urlsafe_b64encode()', 'bcaption.replace()', 'bool()', 'call()', 'caption.encode()', 'caption.replace()', 'caption.splitlines()', 'cast()', 'cls()', 'cls.from_shortcode()', 'code.encode()', 'code_list_str.split()', 'combined_answers.extend()', 'comment._asdict()', 'comment.get()', 'comment.replace()', 'comments.extend()', 'compile()', 'configparser.ConfigParser()', 'context.error()', 'context.get_json()', 'context.graphql_query()', 'context.log()', 'cookies.strip()', 'copy_session()', 'date_object.replace()', 'date_object.timestamp()', 'datetime.fromtimestamp()', 'datetime.now()', 'datetime.strptime()', 'datetime.utcfromtimestamp()', 'default_iphone_headers()', 'default_user_agent()', 'dict()', 'dict.fromkeys()', 'dirname()', 'edge.get()', 'edge.lower()', 'edge_extractor()', 'enumerate()', 'error_handler()', 'eval()', 'field_name.startswith()', 'file.read()', 'file.write()', 'file_caption.decode()', 'file_caption.replace()', 'filename.endswith()', 'filename.lower()', 'filename_template.replace()', 'filter()', 'filterstr_to_filterfunc()', 'fio.write()', 'format_path()', 'format_string_contains_key()', 'fp.close()', 'func()', 'g_cond.add_argument()', 'g_how.add_argument()', 'g_login.add_argument()', 'g_misc.add_argument()', 'g_post.add_argument()', 'g_prof.add_argument()', 'g_targets.add_argument()', 'get_default_session_filename()', 'get_default_stamps_filename()', 'get_filename()', 'get_json_structure()', 'get_legacy_session_filename()', 'get_new_comments()', 'get_unique_comments()', 'getattr()', 'getpass.getpass()', 'getpass.getuser()', 'gql_accumulated_next_request_time()', 'hasattr()', 'hash()', 'hashlib.blake2b()', 'hashlib.md5()', 'hashtag._obtain_metadata()', 'hashtag.get()', 'hashtag.get_posts_resumable()', 'header_cookies_mapping.items()', 'header_extension.lower()', 'http_response.get()', 'id_file.read()', 'id_list.sort()', 'input()', 'instaloader.anonymous_copy()', 'instaloader.check_profile_id()', 'instaloader.do_sleep()', 'instaloader.download_feed_posts()', 'instaloader.download_hashtag()', 'instaloader.download_location()', 'instaloader.download_post()', 'instaloader.download_profiles()', 'instaloader.download_saved_posts()', 'instaloader.download_stories()', 'instaloader.download_storyitem()', 'instaloader.error()', 'instaloader.error_catcher()', 'instaloader.interactive_login()', 'instaloader.load_session_from_file()', 'instaloader.log()', 'instaloader.login()', 'instaloader.save_profile_id()', 'instaloader.save_session_to_file()', 'instaloader.test_login()', 'instaloader.two_factor_login()', 'int()', 'int.from_bytes()', 'iphone_next_request()', 'isinstance()', 'islice()', 'iter()', 'iterator.freeze()', 'iterator.thaw()', 'json.dump()', 'json.dumps()', 'json.load()', 'json.loads()', 'json_node.pop()', 'key.replace()', 'key.startswith()', 'kwargs.get()', 'latest_stamps.get_last_igtv_timestamp()', 'latest_stamps.get_last_post_timestamp()', 'latest_stamps.get_last_story_timestamp()', 'latest_stamps.get_last_tagged_timestamp()', 'latest_stamps.get_profile_id()', 'latest_stamps.get_profile_pic()', 'latest_stamps.rename_profile()', 'latest_stamps.save_profile_id()', 'latest_stamps.set_last_igtv_timestamp()', 'latest_stamps.set_last_post_timestamp()', 'latest_stamps.set_last_story_timestamp()', 'latest_stamps.set_last_tagged_timestamp()', 'latest_stamps.set_profile_pic()', 'len()', 'list()', 'load()', 'load_structure()', 'load_structure_from_file()', 'loader.close()', 'loc.get()', 'loc.update()', 'location.get()', 'location_string.encode()', 'login.json()', 'lzma.open()', 'magic_hash.digest()', 'magic_hash.update()', 'main()', 'makedirs()', 'map()', 'match.group()', 'max()', 'media.get()', 'mediaid.bit_length()', 'mediaid.to_bytes()', 'min()', 'mtime.timestamp()', 'name.lower()', 'new_loader.close()', 'newname.lower()', 'next()', 'node.get()', 'node.update()', 'normalize()', 'open()', 'os.basename()', 'os.chmod()', 'os.dirname()', 'os.exists()', 'os.expanduser()', 'os.getenv()', 'os.getsize()', 'os.isfile()', 'os.join()', 'os.makedirs()', 'os.rename()', 'os.replace()', 'os.splitext()', 'os.unlink()', 'os.utime()', 'owner_profile.lower()', 'parser.add_argument_group()', 'parser.parse_args()', 'partial()', 'per_type_next_request_time()', 'pickle.dump()', 'pickle.load()', 'place.get()', 'platform.system()', 'post.get_comments()', 'post.get_is_videos()', 'post.get_sidecar_nodes()', 'post_filter()', 'print()', 'profile._obtain_metadata()', 'profile.get_followees()', 'profile.get_igtv_posts()', 'profile.get_posts()', 'profile.get_tagged_posts()', 'profile.lower()', 'profile.split()', 'profile_name.lower()', 'profiles.add()', 'random.expovariate()', 'random.randint()', 'range()', 'rate_controller()', 're.compile()', 're.match()', 're.search()', 're.sub()', 'redirect_url.endswith()', 'redirect_url.startswith()', 'repr()', 'requests.Session()', 'requests.cookiejar_from_dict()', 'requests.dict_from_cookiejar()', 'resp.json()', 'resp.split()', 'resp.startswith()', 'resp_json.get()', 'response_headers.clear()', 'response_headers.items()', 'response_headers.update()', 'resumable_iteration()', 'ret.replace()', 'ret.startswith()', 'reversed()', 'root.upper()', 'round()', 's.replace()', 'save()', 'save_comments()', 'save_structure_to_file()', 'self.__next__()', 'self.__prepare_filename()', 'self._asdict()', 'self._default_http_header()', 'self._dump_query_timestamps()', 'self._edge_extractor()', 'self._ensure_section()', 'self._fetch_iphone_struct()', 'self._fetch_items()', 'self._field()', 'self._get_id_filename()', 'self._get_timestamp()', 'self._get_timestamp_date_created()', 'self._is_first()', 'self._media_wrapper()', 'self._metadata()', 'self._node_wrapper()', 'self._obtain_metadata()', 'self._query()', 'self._reqs_in_sliding_window()', 'self._save()', 'self._sections_extractor()', 'self._set_timestamp()', 'self.add_section()', 'self.append()', 'self.astimezone()', 'self.check_profile_id()', 'self.close()', 'self.copy()', 'self.count_per_sliding_window()', 'self.do_sleep()', 'self.download_hashtag_profilepic()', 'self.download_highlight_cover()', 'self.download_highlights()', 'self.download_igtv()', 'self.download_pic()', 'self.download_post()', 'self.download_profilepic()', 'self.download_profilepic_if_new()', 'self.download_stories()', 'self.download_storyitem()', 'self.download_tagged()', 'self.download_title_pic()', 'self.error()', 'self.error_catcher()', 'self.extend()', 'self.format()', 'self.format_filename()', 'self.format_filename_within_target_path()', 'self.get()', 'self.get_anonymous_session()', 'self.get_feed_posts()', 'self.get_highlights()', 'self.get_iphone_json()', 'self.get_items()', 'self.get_json()', 'self.get_location_posts()', 'self.get_posts_resumable()', 'self.get_raw()', 'self.get_stories()', 'self.get_top_posts()', 'self.getint()', 'self.graphql_query()', 'self.handle_429()', 'self.has_option()', 'self.has_section()', 'self.head()', 'self.items()', 'self.load_profile_id()', 'self.load_session()', 'self.load_session_from_file()', 'self.log()', 'self.login()', 'self.lower()', 'self.posts_download_loop()', 'self.query_waittime()', 'self.read()', 'self.remove_section()', 'self.sanitize_path()', 'self.save_caption()', 'self.save_location()', 'self.save_metadata_json()', 'self.save_profile_id()', 'self.save_session()', 'self.save_session_to_file()', 'self.set()', 'self.sleep()', 'self.split()', 'self.test_login()', 'self.timestamp()', 'self.two_factor_login()', 'self.update()', 'self.update_comments()', 'self.wait_before_query()', 'self.write()', 'self.write_raw()', 'sess.get()', 'session.copy()', 'session.get_dict()', 'session.post()', 'session.update()', 'set()', 'shutil.copyfileobj()', 'sorted()', 'storyitem_filter()', 'str()', 'string.Formatter()', 'structure._asdict()', 'sum()', 'super()', 'suppress()', 'takewhile()', 'target.endswith()', 'target.rstrip()', 'tempfile.gettempdir()', 'tempsession.clear()', 'tempsession.get_dict()', 'tempsession.pop()', 'tempsession.update()', 'text_file.write()', 'textwrap.fill()', 'time.monotonic()', 'time.sleep()', 'time.time()', 'timedelta()', 'timestamp.strftime()', 'tmpsession.update()', 'top_search_results.get_profiles()', 'two_factor_session.update()', 'unique_comments_list.append()', 'unique_comments_list.get()', 'untracked_next_request_time()', 'url()', 'url.split()', 'url_candidates.append()', 'url_candidates.sort()', 'urllib.quote()', 'urlmatch.group()', 'urlparse()', 'usage_string()', 'user.get()', 'user_highlight.get_items()', 'user_story.get_items()', 'username.lower()', 'username.startswith()', 'uuid.uuid4()', 'values.encode()', 'version_urls.append()', 'version_urls.extend()', 'wraps()', 'y.get()', 'zip()'].\n",
      "Code2Flow: Found variables ['*->UNKNOWN_MODULE', 'AbortDownloadException->AbortDownloadException', 'AbortDownloadException->UNKNOWN_MODULE', 'Any->UNKNOWN_MODULE', 'ArgumentParser->UNKNOWN_MODULE', 'ArgumentTypeError->UNKNOWN_MODULE', 'BadCredentialsException->UNKNOWN_MODULE', 'BytesIO->UNKNOWN_MODULE', 'Callable->UNKNOWN_MODULE', 'Dict->UNKNOWN_MODULE', 'FrozenNodeIterator->FrozenNodeIterator', 'Hashtag->Hashtag', 'Highlight->Highlight', 'IO->UNKNOWN_MODULE', 'Instaloader->Instaloader', 'Instaloader->UNKNOWN_MODULE', 'InstaloaderContext->InstaloaderContext', 'InstaloaderException->UNKNOWN_MODULE', 'InvalidArgumentException->InvalidArgumentException', 'InvalidArgumentException->UNKNOWN_MODULE', 'Iterable->UNKNOWN_MODULE', 'Iterator->UNKNOWN_MODULE', 'JsonExportable->UNKNOWN_MODULE', 'LZMAError->UNKNOWN_MODULE', 'LatestStamps->LatestStamps', 'List->UNKNOWN_MODULE', 'NamedTuple->UNKNOWN_MODULE', 'NodeIterator->NodeIterator', 'Optional->UNKNOWN_MODULE', 'Path->UNKNOWN_MODULE', 'Post->Post', 'Post->UNKNOWN_MODULE', 'PostComment->PostComment', 'PostCommentAnswer->PostCommentAnswer', 'PostLocation->PostLocation', 'PostSidecarNode->PostSidecarNode', 'Profile->Profile', 'Profile->UNKNOWN_MODULE', 'ProfileNotExistsException->UNKNOWN_MODULE', 'QueryReturnedBadRequestException->QueryReturnedBadRequestException', 'RateController->RateController', 'SUPPRESS->UNKNOWN_MODULE', 'SectionIterator->SectionIterator', 'Set->UNKNOWN_MODULE', 'Story->Story', 'StoryItem->StoryItem', 'StoryItem->UNKNOWN_MODULE', 'T-><Call owner_token=None token=TypeVar>', 'TitlePic->TitlePic', 'TopSearchResults->TopSearchResults', 'Tuple->UNKNOWN_MODULE', 'TwoFactorAuthRequiredException->UNKNOWN_MODULE', 'TypeVar->UNKNOWN_MODULE', 'Union->UNKNOWN_MODULE', '__eq__->__eq__', '__hash__->__hash__', '__init__->__init__', '__repr__->__repr__', '__version__->UNKNOWN_MODULE', '_fetch_iphone_struct->_fetch_iphone_struct', '_hashtag_regex-><Call owner_token=re token=compile>', '_mention_regex-><Call owner_token=re token=compile>', 'anonymous_retry_profiles-><Call owner_token=None token=set>', 'answer_ids-><Call owner_token=None token=set>', 'answers_count-><Call owner_token=None token=sum>', 'args-><Call owner_token=parser token=parse_args>', 'argv0-><Call owner_token=os token=basename>', 'ast->UNKNOWN_MODULE', 'b64decode->UNKNOWN_MODULE', 'b64encode->UNKNOWN_MODULE', 'base64->UNKNOWN_MODULE', 'bcaption-><Call owner_token=caption token=encode>', 'cast->UNKNOWN_MODULE', 'code-><Call owner_token=None token=input>', 'comment_edges-><Call owner_token=self token=_field>', 'comments-><Call owner_token=None token=list>', 'comments-><Call owner_token=json token=load>', 'comments-><Call owner_token=self token=get>', 'comments_iterator-><Call owner_token=post token=get_comments>', 'comments_list-><Call owner_token=None token=sorted>', 'compiled_filter-><Call owner_token=None token=compile>', 'compress-><Call owner_token=filename token=endswith>', 'compressed-><Call owner_token=filename token=endswith>', 'configdir-><Call owner_token=None token=_get_config_dir>', 'configparser->UNKNOWN_MODULE', 'conn-><Call owner_token=self token=_metadata>', 'content_length-><Call owner_token=http_response token=get>', 'contextmanager->UNKNOWN_MODULE', 'cookies-><Call owner_token=UNKNOWN_VAR token=copy>', 'csrf_json-><Call owner_token=self token=get_json>', 'current_time-><Call owner_token=time token=monotonic>', 'data-><Call owner_token=None token=_query>', 'data-><Call owner_token=self token=_edge_extractor>', 'data-><Call owner_token=self token=_query>', 'data-><Call owner_token=self token=get_iphone_json>', 'data-><Call owner_token=self token=graphql_query>', 'date_object-><Call owner_token=date_object token=replace>', 'date_object-><Call owner_token=datetime token=strptime>', 'datetime->UNKNOWN_MODULE', 'default_user_agent->default_user_agent', 'dirname-><Call owner_token=UNKNOWN_VAR token=format>', 'dirname-><Call owner_token=os token=dirname>', 'dirname->UNKNOWN_MODULE', 'display_url-><Call owner_token=UNKNOWN_VAR token=rstrip>', 'downloaded-><Call owner_token=self token=download_post>', 'downloaded-><Call owner_token=self token=download_storyitem>', 'edges-><Call owner_token=self token=_field>', 'enc_password-><Call owner_token=UNKNOWN_VAR token=format>', 'error_string-><Call owner_token=UNKNOWN_VAR token=format>', 'file_caption-><Call owner_token=file token=read>', 'filename-><Call owner_token=None token=get_default_session_filename>', 'filename-><Call owner_token=None token=get_legacy_session_filename>', 'filename-><Call owner_token=filename_template token=replace>', 'filename-><Call owner_token=self token=__prepare_filename>', 'filename_template-><Call owner_token=os token=join>', 'fni-><Call owner_token=None token=load>', 'format_field->format_field', 'fp-><Call owner_token=None token=open>', 'fp-><Call owner_token=lzma token=open>', 'g_cond-><Call owner_token=parser token=add_argument_group>', 'g_how-><Call owner_token=parser token=add_argument_group>', 'g_login-><Call owner_token=parser token=add_argument_group>', 'g_misc-><Call owner_token=parser token=add_argument_group>', 'g_post-><Call owner_token=parser token=add_argument_group>', 'g_prof-><Call owner_token=parser token=add_argument_group>', 'g_targets-><Call owner_token=parser token=add_argument_group>', 'get_default_session_filename->get_default_session_filename', 'get_default_stamps_filename->get_default_stamps_filename', 'get_items->get_items', 'get_json_structure->get_json_structure', 'get_value->get_value', 'getpass->UNKNOWN_MODULE', 'graphql_query_timestamps-><Call owner_token=None token=filter>', 'hashlib->UNKNOWN_MODULE', 'hashtag-><Call owner_token=Hashtag token=from_name>', 'hashtag-><Call owner_token=None token=cls>', 'header_extension-><Call owner_token=UNKNOWN_VAR token=replace>', 'http.client->UNKNOWN_MODULE', 'http_response-><Call owner_token=self token=get_raw>', 'id_filename-><Call owner_token=self token=_get_id_filename>', 'igtv_posts-><Call owner_token=profile token=get_igtv_posts>', 'islice->UNKNOWN_MODULE', 'item-><Call owner_token=self token=_node_wrapper>', 'itemcount->itemcount', 'json->UNKNOWN_MODULE', 'json_filename-><Call owner_token=UNKNOWN_VAR token=format>', 'json_filename-><Call owner_token=os token=join>', 'json_node-><Call owner_token=self token=copy>', 'json_response-><Call owner_token=self token=get_json>', 'json_structure-><Call owner_token=None token=get_json_structure>', 'json_structure-><Call owner_token=json token=load>', 'last_scraped-><Call owner_token=latest_stamps token=get_last_igtv_timestamp>', 'last_scraped-><Call owner_token=latest_stamps token=get_last_post_timestamp>', 'last_scraped-><Call owner_token=latest_stamps token=get_last_story_timestamp>', 'last_scraped-><Call owner_token=latest_stamps token=get_last_tagged_timestamp>', 'last_seen_local->last_seen_local', 'last_seen_utc->last_seen_utc', 'latest_media_local->latest_media_local', 'latest_media_utc->latest_media_utc', 'latest_stamps->LatestStamps', 'likes_edges-><Call owner_token=self token=_field>', 'load_structure->load_structure', 'load_structure_from_file->UNKNOWN_MODULE', 'load_structure_from_file->load_structure_from_file', 'loader->Instaloader', 'loc-><Call owner_token=place token=get>', 'loc-><Call owner_token=self token=_field>', 'localappdata-><Call owner_token=os token=getenv>', 'location_id-><Call owner_token=None token=int>', 'login-><Call owner_token=session token=post>', 'lzma->UNKNOWN_MODULE', 'magic_hash-><Call owner_token=hashlib token=blake2b>', 'makedirs->UNKNOWN_MODULE', 'match-><Call owner_token=re token=search>', 'metadata-><Call owner_token=self token=get_iphone_json>', 'metadata_string-><Call owner_token=UNKNOWN_VAR token=strip>', 'msg-><Call owner_token=UNKNOWN_VAR token=format>', 'name-><Call owner_token=UNKNOWN_VAR token=get>', 'new-><Call owner_token=requests token=Session>', 'new_loader->Instaloader', 'new_node-><Call owner_token=ast token=Attribute>', 'new_page_length-><Call owner_token=None token=int>', 'next_other-><Call owner_token=None token=next>', 'next_top-><Call owner_token=None token=next>', 'node-><Call owner_token=hashtag token=get>', 'node_iterator-><Call owner_token=UNKNOWN_VAR token=get_saved_posts>', 'normalize->UNKNOWN_MODULE', 'os->UNKNOWN_MODULE', 'other_posts-><Call owner_token=self token=get_posts_resumable>', 'owner_id->owner_id', 'owner_profile->owner_profile', 'owner_username->owner_username', 'parser-><Call owner_token=None token=ArgumentParser>', 'partial->UNKNOWN_MODULE', 'password-><Call owner_token=getpass token=getpass>', 'pcaption-><Call owner_token=None token=_elliptify>', 'pcaption-><Call owner_token=UNKNOWN_VAR token=strip>', 'pic_data->TitlePic', 'pic_json-><Call owner_token=context token=graphql_query>', 'pic_json-><Call owner_token=self token=graphql_query>', 'pickle->UNKNOWN_MODULE', 'place-><Call owner_token=location token=get>', 'platform->UNKNOWN_MODULE', 'post-><Call owner_token=None token=cls>', 'post_filter-><Call owner_token=None token=filterstr_to_filterfunc>', 'posts_to_download-><Call owner_token=profile token=get_posts>', 'profile-><Call owner_token=None token=cls>', 'profile-><Call owner_token=Profile token=from_username>', 'profile-><Call owner_token=instaloader token=check_profile_id>', 'profile-><Call owner_token=self token=check_profile_id>', 'profile_count-><Call owner_token=None token=len>', 'profile_from_id-><Call owner_token=Profile token=from_id>', 'profile_id-><Call owner_token=latest_stamps token=get_profile_id>', 'profile_id-><Call owner_token=self token=load_profile_id>', 'profiles-><Call owner_token=None token=set>', 'query_response-><Call owner_token=self token=_query>', 'random->UNKNOWN_MODULE', 're->UNKNOWN_MODULE', 'reqs_in_sliding_window-><Call owner_token=self token=_reqs_in_sliding_window>', 'requests->UNKNOWN_MODULE', 'requests.utils->UNKNOWN_MODULE', 'resp-><Call owner_token=anonymous_session token=get>', 'resp-><Call owner_token=anonymous_session token=head>', 'resp-><Call owner_token=self token=get_raw>', 'resp-><Call owner_token=sess token=get>', 'resp_json-><Call owner_token=json token=loads>', 'resp_json-><Call owner_token=login token=json>', 'resp_json-><Call owner_token=resp token=json>', 'resp_json-><Call owner_token=self token=get_json>', 'response-><Call owner_token=self token=get_json>', 'response_headers-><Call owner_token=None token=dict>', 'resumable_iteration->resumable_iteration', 'resume_file_exists-><Call owner_token=os token=isfile>', 'resume_file_path-><Call owner_token=None token=format_path>', 'ret-><Call owner_token=UNKNOWN_VAR token=get_value>', 'ret-><Call owner_token=UNKNOWN_VAR token=replace>', 'ret-><Call owner_token=ret token=replace>', 'sanitized_target-><Call owner_token=_PostPathFormatter token=sanitize_path>', 'save_structure_to_file->save_structure_to_file', 'saved_basename-><Call owner_token=latest_stamps token=get_profile_pic>', 'scraped_timestamp-><Call owner_token=UNKNOWN_VAR token=astimezone>', 'self->Hashtag', 'self->Highlight', 'self->Instaloader', 'self->InstaloaderContext', 'self->LatestStamps', 'self->NodeIterator', 'self->Post', 'self->Profile', 'self->RateController', 'self->SectionIterator', 'self->Story', 'self->StoryItem', 'self->TitlePic', 'self->TopSearchResults', 'self->_ArbitraryItemFormatter', 'self->_PostPathFormatter', 'session-><Call owner_token=requests token=Session>', 'sessionfilename-><Call owner_token=UNKNOWN_VAR token=format>', 'shutil->UNKNOWN_MODULE', 'sidecar_filename-><Call owner_token=self token=__prepare_filename>', 'slug-><Call owner_token=place token=get>', 'sorted_top_posts-><Call owner_token=None token=iter>', 'splitted-><Call owner_token=self token=split>', 'sponsor_edges-><Call owner_token=self token=_field>', 'storyitem_filter-><Call owner_token=None token=filterstr_to_filterfunc>', 'string->UNKNOWN_MODULE', 'structure-><Call owner_token=None token=load_structure_from_file>', 'suppress->UNKNOWN_MODULE', 'sys->UNKNOWN_MODULE', 'tagged_posts-><Call owner_token=profile token=get_tagged_posts>', 'target-><Call owner_token=target token=rstrip>', 'target_type-><Call owner_token=UNKNOWN_VAR token=get>', 'tempfile->UNKNOWN_MODULE', 'textwrap->UNKNOWN_MODULE', 'time->UNKNOWN_MODULE', 'timedelta->UNKNOWN_MODULE', 'timezone->UNKNOWN_MODULE', 'top_search_results->TopSearchResults', 'two_factor_session-><Call owner_token=None token=copy_session>', 'unescaped_string-><Call owner_token=UNKNOWN_VAR token=decode>', 'unique_comments-><Call owner_token=None token=get_unique_comments>', 'unique_id->unique_id', 'url-><Call owner_token=UNKNOWN_VAR token=rstrip>', 'urllib.parse->UNKNOWN_MODULE', 'urllib3->UNKNOWN_MODULE', 'urlmatch-><Call owner_token=re token=search>', 'urlparse->UNKNOWN_MODULE', 'userids-><Call owner_token=None token=list>', 'username-><Call owner_token=UNKNOWN_VAR token=get>', 'uuid->UNKNOWN_MODULE', 'value-><Call owner_token=self token=get>', 'values-><Call owner_token=UNKNOWN_VAR token=format>', 'variables_json-><Call owner_token=json token=dumps>', 'version_urls-><Call owner_token=None token=list>', 'waittime-><Call owner_token=self token=query_waittime>', 'win_unicode_console->UNKNOWN_MODULE', 'wraps->UNKNOWN_MODULE', 'x_instagram_gis-><Call owner_token=UNKNOWN_VAR token=hexdigest>'].\n",
      "Code2Flow: Skipped processing these calls because the algorithm linked them to multiple function definitions: ['UNKNOWN_VAR.__init__()', 'UNKNOWN_VAR.get_value()', 'comment._asdict()', 'fp.close()', 'hashtag._obtain_metadata()', 'instaloader.anonymous_copy()', 'instaloader.load_session_from_file()', 'instaloader.login()', 'instaloader.save_profile_id()', 'instaloader.save_session_to_file()', 'instaloader.test_login()', 'instaloader.two_factor_login()', 'latest_stamps.save_profile_id()', 'profile._obtain_metadata()', 'profile.get_posts()', 'structure._asdict()', 'user_highlight.get_items()', 'user_story.get_items()'].\n",
      "Code2Flow: Generating output file...\n",
      "Code2Flow: Wrote output file 'callgraph.json' with 244 nodes and 529 edges.\n",
      "Code2Flow: Code2flow finished processing in 0.50 seconds.\n"
     ]
    }
   ],
   "source": [
    "code2flow_method(filenames, \"callgraph.json\")"
   ]
  },
  {
   "cell_type": "markdown",
   "metadata": {},
   "source": [
    "## Generate Call Graph using Code2Flow"
   ]
  },
  {
   "cell_type": "code",
   "execution_count": 176,
   "metadata": {},
   "outputs": [],
   "source": [
    "from pyvis.network import Network\n",
    "import networkx as nx\n",
    "from collections import defaultdict"
   ]
  },
  {
   "cell_type": "code",
   "execution_count": 125,
   "metadata": {},
   "outputs": [],
   "source": [
    "import json\n",
    "\n",
    "data = None\n",
    "with open(\"callgraph.json\") as f:\n",
    "    data = json.load(f)"
   ]
  },
  {
   "cell_type": "code",
   "execution_count": 177,
   "metadata": {},
   "outputs": [],
   "source": [
    "nodes = data[\"graph\"][\"nodes\"]\n",
    "edges = data[\"graph\"][\"edges\"]"
   ]
  },
  {
   "cell_type": "code",
   "execution_count": 178,
   "metadata": {},
   "outputs": [],
   "source": [
    "edges_revamped = defaultdict(list)\n",
    "for edge in edges:\n",
    "    edges_revamped[edge[\"source\"]].append(edge[\"target\"])"
   ]
  },
  {
   "cell_type": "code",
   "execution_count": 179,
   "metadata": {},
   "outputs": [],
   "source": [
    "def toNetwork(data: dict) -> nx.DiGraph:\n",
    "    nt = nx.DiGraph()\n",
    "\n",
    "    def checkKey(name):\n",
    "        if name not in nt:\n",
    "            nt.add_node(nodes[name][\"name\"], size=40)\n",
    "\n",
    "    for node in data:\n",
    "        checkKey(node)\n",
    "        for child in data[node]:\n",
    "            checkKey(child)\n",
    "            nt.add_edge(nodes[node][\"name\"], nodes[child][\"name\"])\n",
    "    return nt\n",
    "\n",
    "\n",
    "def ntw_pyvis(ntx: nx.DiGraph):\n",
    "    net = Network(\n",
    "        width=\"100%\",\n",
    "        height=\"1000px\",\n",
    "        directed=True,\n",
    "        notebook=True,\n",
    "        cdn_resources=\"remote\",\n",
    "        select_menu=True,\n",
    "        filter_menu=True,\n",
    "    )\n",
    "    for node in ntx.nodes:\n",
    "        net.add_node(\n",
    "            node,\n",
    "            **{\"label\": node},\n",
    "        )\n",
    "\n",
    "    for edge in ntx.edges:\n",
    "        net.add_edge(edge[0], edge[1], width=1)\n",
    "    return net"
   ]
  },
  {
   "cell_type": "code",
   "execution_count": 180,
   "metadata": {},
   "outputs": [],
   "source": [
    "network = toNetwork(edges_revamped)"
   ]
  },
  {
   "cell_type": "code",
   "execution_count": 181,
   "metadata": {},
   "outputs": [
    {
     "name": "stdout",
     "output_type": "stream",
     "text": [
      "Number of Nodes: 244\n",
      "Number of Edges: 421\n"
     ]
    }
   ],
   "source": [
    "print(\"Number of Nodes:\", len(network.nodes))\n",
    "print(\"Number of Edges:\", len(network.edges))"
   ]
  },
  {
   "cell_type": "code",
   "execution_count": 182,
   "metadata": {},
   "outputs": [
    {
     "data": {
      "text/plain": [
       "NodeView(('__main__::(global)', '__main__::main', '__main__::_main', '__main__::filterstr_to_filterfunc', '__main__::usage_string', 'instaloader::Instaloader.check_profile_id', 'instaloader::Instaloader.download_feed_posts', 'instaloader::Instaloader.download_hashtag', 'instaloader::Instaloader.download_location', 'instaloader::Instaloader.download_post', 'instaloader::Instaloader.download_profiles', 'instaloader::Instaloader.download_saved_posts', 'instaloader::Instaloader.download_stories', 'instaloader::Instaloader.download_storyitem', 'instaloader::Instaloader.interactive_login', 'instaloadercontext::InstaloaderContext.error', 'instaloadercontext::InstaloaderContext.error_catcher', 'instaloadercontext::InstaloaderContext.log', 'lateststamps::LatestStamps.__init__', 'structures::Profile.get_followees', 'structures::load_structure_from_file', 'instaloader::Instaloader.__init__', 'instaloader::Instaloader.close', 'instaloader::get_default_session_filename', 'instaloader::get_default_stamps_filename', 'instaloadercontext::default_user_agent', 'instaloader::Instaloader.__exit__', 'instaloader::format_string_contains_key', 'instaloadercontext::InstaloaderContext.__init__', 'instaloader::Instaloader._get_id_filename', 'instaloader::Instaloader.anonymous_copy', 'instaloader::Instaloader.load_profile_id', 'instaloader::Instaloader.save_profile_id', 'lateststamps::LatestStamps.get_profile_id', 'lateststamps::LatestStamps.rename_profile', 'structures::Profile.from_id', 'structures::Profile.from_username', 'instaloader::Instaloader.get_feed_posts', 'instaloader::Instaloader.posts_download_loop', 'instaloader::Instaloader.download_hashtag_profilepic', 'instaloader::Instaloader.save_metadata_json', 'structures::Hashtag.from_name', 'structures::Hashtag.get_posts_resumable', 'instaloader::Instaloader.download_title_pic', 'instaloader::Instaloader.download_highlight_cover', 'instaloader::Instaloader.download_highlights', 'instaloader::Instaloader.get_highlights', 'instaloader::_PostPathFormatter.sanitize_path', 'instaloader::Instaloader.download_igtv', 'lateststamps::LatestStamps.get_last_igtv_timestamp', 'lateststamps::LatestStamps.set_last_igtv_timestamp', 'structures::Profile.get_igtv_posts', 'instaloader::Instaloader.get_location_posts', 'instaloader::Instaloader.download_pic', 'instaloadercontext::InstaloaderContext.get_raw', 'instaloadercontext::InstaloaderContext.write_raw', 'instaloader::Instaloader.__prepare_filename', 'instaloader::Instaloader.format_filename', 'instaloader::Instaloader.save_caption', 'instaloader::Instaloader.save_location', 'instaloader::Instaloader.update_comments', 'instaloader::_ArbitraryItemFormatter.__init__', 'instaloader::_PostPathFormatter.__init__', 'structures::Post.get_is_videos', 'structures::Post.get_sidecar_nodes', 'instaloader::Instaloader.download_profile', 'instaloader::Instaloader.download_profilepic', 'instaloader::Instaloader.download_tagged', 'instaloader::Instaloader.download_profilepic_if_new', 'lateststamps::LatestStamps.get_profile_pic', 'lateststamps::LatestStamps.set_profile_pic', 'lateststamps::LatestStamps.get_last_post_timestamp', 'lateststamps::LatestStamps.set_last_post_timestamp', 'structures::Profile.get_saved_posts', 'structures::Profile.own_profile', 'instaloader::Instaloader.get_stories', 'lateststamps::LatestStamps.get_last_story_timestamp', 'lateststamps::LatestStamps.set_last_story_timestamp', 'lateststamps::LatestStamps.get_last_tagged_timestamp', 'lateststamps::LatestStamps.set_last_tagged_timestamp', 'structures::Profile.get_tagged_posts', 'structures::TitlePic.__init__', 'instaloader::Instaloader.format_filename_within_target_path', 'instaloader::Instaloader.get_explore_posts', 'nodeiterator::NodeIterator.__init__', 'structures::Post.__init__', 'instaloadercontext::InstaloaderContext.graphql_query', 'structures::Post.supported_graphql_types', 'instaloader::Instaloader.get_hashtag_posts', 'structures::Highlight.__init__', 'sectioniterator::SectionIterator.__init__', 'structures::Post.from_iphone_struct', 'structures::Story.__init__', 'instaloader::Instaloader.login', 'instaloader::Instaloader.two_factor_login', 'instaloader::Instaloader.load_session', 'instaloader::Instaloader.load_session_from_file', 'instaloader::get_legacy_session_filename', 'nodeiterator::resumable_iteration', 'structures::save_structure_to_file', 'instaloader::Instaloader.save_session', 'instaloader::Instaloader.save_session_to_file', 'instaloader::Instaloader.test_login', 'structures::Post.get_comments', 'instaloader::_ArbitraryItemFormatter.format_field', 'instaloader::_PostPathFormatter.get_value', 'instaloader::_retry_on_connection_error', 'instaloadercontext::InstaloaderContext.do_sleep', 'instaloader::_get_config_dir', 'instaloadercontext::InstaloaderContext.get_anonymous_session', 'instaloadercontext::RateController.__init__', 'instaloadercontext::default_iphone_headers', 'instaloadercontext::InstaloaderContext.anonymous_copy', 'instaloadercontext::InstaloaderContext.close', 'instaloadercontext::InstaloaderContext.get_and_write_raw', 'instaloadercontext::InstaloaderContext._default_http_header', 'instaloadercontext::InstaloaderContext.get_iphone_json', 'instaloadercontext::InstaloaderContext.get_json', 'instaloadercontext::copy_session', 'instaloadercontext::RateController.handle_429', 'instaloadercontext::RateController.wait_before_query', 'instaloadercontext::InstaloaderContext.graphql_node_list', 'instaloadercontext::InstaloaderContext.head', 'instaloadercontext::InstaloaderContext.load_session', 'instaloadercontext::InstaloaderContext.load_session_from_file', 'instaloadercontext::InstaloaderContext.login', 'instaloadercontext::InstaloaderContext.root_rhx_gis', 'instaloadercontext::InstaloaderContext.save_session_to_file', 'instaloadercontext::InstaloaderContext.save_session', 'instaloadercontext::InstaloaderContext.test_login', 'instaloadercontext::RateController._dump_query_timestamps', 'instaloadercontext::RateController.query_waittime', 'instaloadercontext::RateController.sleep', 'instaloadercontext::RateController._reqs_in_sliding_window', 'instaloadercontext::RateController.count_per_sliding_window', 'lateststamps::LatestStamps._set_timestamp', 'lateststamps::LatestStamps._ensure_section', 'lateststamps::LatestStamps._save', 'lateststamps::LatestStamps._get_timestamp', 'lateststamps::LatestStamps.save_profile_id', 'nodeiterator::NodeIterator._query', 'nodeiterator::NodeIterator.__next__', 'nodeiterator::NodeIterator.freeze', 'nodeiterator::NodeIterator.thaw', 'sectioniterator::SectionIterator._query', 'sectioniterator::SectionIterator.__next__', 'structures::Hashtag._metadata', 'structures::Hashtag._obtain_metadata', 'structures::Hashtag._query', 'structures::Hashtag.allow_following', 'structures::Hashtag.description', 'structures::Hashtag.get_all_posts', 'structures::Hashtag.get_top_posts', 'structures::Hashtag.get_posts', 'structures::Hashtag.hashtagid', 'structures::Hashtag.is_following', 'structures::Hashtag.mediacount', 'structures::Hashtag.profile_pic_url', 'structures::Highlight._fetch_iphone_struct', 'structures::Highlight._fetch_items', 'structures::Highlight.get_items', 'structures::StoryItem.__init__', 'structures::Highlight.itemcount', 'structures::Highlight.owner_profile', 'structures::Profile.__init__', 'structures::Post._asdict', 'structures::Post._full_metadata', 'structures::Post._obtain_metadata', 'structures::Post._iphone_struct', 'structures::Post.accessibility_caption', 'structures::Post._field', 'structures::Post.caption', 'structures::_optional_normalize', 'structures::Post.comments', 'structures::Post.date_local', 'structures::Post._get_timestamp_date_created', 'structures::Post.date_utc', 'structures::Profile.from_iphone_struct', 'structures::Post.from_mediaid', 'structures::Post.from_shortcode', 'structures::Post.mediaid_to_shortcode', 'structures::Post.get_likes', 'structures::Post.is_sponsored', 'structures::Post.likes', 'structures::Post.location', 'structures::Post.mediacount', 'structures::Post.owner_profile', 'structures::Post.sponsor_users', 'structures::Post.tagged_users', 'structures::Post.title', 'structures::Post.typename', 'structures::Post.url', 'structures::Post.video_duration', 'structures::Post.video_url', 'structures::Post.video_view_count', 'structures::Post.viewer_has_liked', 'structures::Profile._iphone_struct', 'structures::Profile._metadata', 'structures::Profile._obtain_metadata', 'structures::TopSearchResults.__init__', 'structures::TopSearchResults.get_profiles', 'structures::Profile.biography', 'structures::Profile.blocked_by_viewer', 'structures::Profile.business_category_name', 'structures::Profile.external_url', 'structures::Profile.followed_by_viewer', 'structures::Profile.followees', 'structures::Profile.followers', 'structures::Profile.follows_viewer', 'structures::Profile.full_name', 'structures::Profile.get_followed_hashtags', 'structures::Hashtag.__init__', 'structures::Profile.get_followers', 'structures::Profile._make_is_newest_checker', 'structures::Profile.get_posts', 'structures::Profile.get_similar_accounts', 'structures::Profile.has_blocked_viewer', 'structures::Profile.has_public_story', 'structures::Profile.has_requested_viewer', 'structures::Profile.igtvcount', 'structures::Profile.is_business_account', 'structures::Profile.is_private', 'structures::Profile.is_verified', 'structures::Profile.mediacount', 'structures::Profile.profile_pic_url', 'structures::Profile.profile_pic_url_no_iphone', 'structures::Profile.requested_by_viewer', 'structures::Profile.userid', 'structures::Profile.username', 'structures::Story._fetch_iphone_struct', 'structures::Story.get_items', 'structures::Story.owner_profile', 'structures::Story.unique_id', 'structures::StoryItem._asdict', 'structures::StoryItem._iphone_struct', 'structures::StoryItem.caption', 'structures::StoryItem.from_mediaid', 'structures::StoryItem.owner_profile', 'structures::StoryItem.shortcode', 'structures::StoryItem.url', 'structures::StoryItem.video_url', 'structures::TopSearchResults.get_hashtags', 'structures::load_structure', 'structures::get_json_structure'))"
      ]
     },
     "execution_count": 182,
     "metadata": {},
     "output_type": "execute_result"
    }
   ],
   "source": [
    "network.nodes"
   ]
  },
  {
   "cell_type": "code",
   "execution_count": 183,
   "metadata": {},
   "outputs": [],
   "source": [
    "net = ntw_pyvis(network)"
   ]
  },
  {
   "cell_type": "code",
   "execution_count": 185,
   "metadata": {},
   "outputs": [],
   "source": [
    "# net = Network(\n",
    "#     width=\"100%\",\n",
    "#     height=\"1000px\",\n",
    "#     directed=True,\n",
    "#     notebook=True,\n",
    "#     cdn_resources=\"remote\",\n",
    "#     select_menu=True,\n",
    "#     filter_menu=True,\n",
    "# )\n",
    "# net.from_DOT(\"./callgraph.dot\")"
   ]
  },
  {
   "cell_type": "code",
   "execution_count": 186,
   "metadata": {},
   "outputs": [
    {
     "name": "stdout",
     "output_type": "stream",
     "text": [
      "dot.html\n"
     ]
    }
   ],
   "source": [
    "_ = net.show(\"dot.html\")"
   ]
  },
  {
   "cell_type": "code",
   "execution_count": null,
   "metadata": {},
   "outputs": [],
   "source": []
  }
 ],
 "metadata": {
  "kernelspec": {
   "display_name": "py310_notebook_env",
   "language": "python",
   "name": "python3"
  },
  "language_info": {
   "codemirror_mode": {
    "name": "ipython",
    "version": 3
   },
   "file_extension": ".py",
   "mimetype": "text/x-python",
   "name": "python",
   "nbconvert_exporter": "python",
   "pygments_lexer": "ipython3",
   "version": "3.10.10"
  }
 },
 "nbformat": 4,
 "nbformat_minor": 2
}
