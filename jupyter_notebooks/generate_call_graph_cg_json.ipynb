{
 "cells": [
  {
   "cell_type": "code",
   "execution_count": 82,
   "metadata": {},
   "outputs": [],
   "source": [
    "import re\n",
    "import os\n",
    "import networkx as nx\n",
    "from pyvis.network import Network"
   ]
  },
  {
   "cell_type": "code",
   "execution_count": 83,
   "metadata": {},
   "outputs": [],
   "source": [
    "BASE_PATH = os.path.abspath(\"..\")"
   ]
  },
  {
   "cell_type": "code",
   "execution_count": 84,
   "metadata": {},
   "outputs": [],
   "source": [
    "PACKAGE_FILTER = \"^(instaloader|Instaloader).*\"\n",
    "CG_JSON = f\"{BASE_PATH}/cg_jsons/instaloader_cg.json\"\n",
    "OUTPUT_FILE_PATH = f\"{BASE_PATH}/cg_htmls/instaloader_graph.html\""
   ]
  },
  {
   "cell_type": "code",
   "execution_count": 85,
   "metadata": {},
   "outputs": [],
   "source": [
    "import json\n",
    "with open(CG_JSON, mode=\"r\") as f:\n",
    "    data = json.load(f)"
   ]
  },
  {
   "cell_type": "code",
   "execution_count": 86,
   "metadata": {},
   "outputs": [],
   "source": [
    "def clean_json(dictionary : dict, package_filter: str) -> dict:\n",
    "    '''\n",
    "        Change the format of all file paths to standard package naming convention in Python\n",
    "        and build network graph\n",
    "    '''\n",
    "    new_dict = {}\n",
    "    for key, value in dictionary.items():\n",
    "       \n",
    "       # TO-DO: You can replace any characters before src with blank\n",
    "       new_key = re.sub(r\"[\\\\]+\", \".\", key.strip(\".\\\\\"))  # Strip chars and replace slashes\n",
    "       new_values = [re.sub(r\"[\\\\]+\", \".\", elm.strip(\".\\\\\")) for elm in value] # Strip chars and replace slashes\n",
    "       \n",
    "    #    # Only keep webdriver related packages in \"from\" node\n",
    "    #    if not re.match(package_filter, new_key):\n",
    "    #        continue\n",
    "       \n",
    "    #    # Only keep webdriver related packages in \"to\" node\n",
    "    #    new_values = list(filter(lambda x: re.match(package_filter, x), new_values))\n",
    "       \n",
    "       if new_key in new_dict:\n",
    "           new_dict[new_key].extend(new_values)\n",
    "       else:\n",
    "           new_dict[new_key] = new_values\n",
    "\n",
    "    return new_dict        \n"
   ]
  },
  {
   "cell_type": "code",
   "execution_count": 87,
   "metadata": {},
   "outputs": [],
   "source": [
    "new_json = clean_json(data, PACKAGE_FILTER)"
   ]
  },
  {
   "cell_type": "code",
   "execution_count": 88,
   "metadata": {},
   "outputs": [
    {
     "data": {
      "text/plain": [
       "['instaloader.__main__._main']"
      ]
     },
     "execution_count": 88,
     "metadata": {},
     "output_type": "execute_result"
    }
   ],
   "source": [
    "[key for key in new_json.keys() if re.match(\"^instaloader.__main__._main\", key)]"
   ]
  },
  {
   "cell_type": "code",
   "execution_count": 89,
   "metadata": {},
   "outputs": [],
   "source": [
    "def toNetwork(data: dict)->  nx.DiGraph:\n",
    "    nt = nx.DiGraph()\n",
    "\n",
    "    def checkKey(name):\n",
    "        if name not in nt:\n",
    "            nt.add_node(name, size=40)\n",
    "\n",
    "    for node in data:\n",
    "        checkKey(node)\n",
    "        for child in data[node]:\n",
    "            checkKey(child)\n",
    "            nt.add_edge(node,child)\n",
    "    return nt\n",
    "\n",
    "def ntw_pyvis(ntx:nx.DiGraph):\n",
    "    net = Network(width=\"100%\",height=\"1000px\", directed=True, notebook=True,\n",
    "                  cdn_resources='remote', select_menu=True, filter_menu=True)\n",
    "    for node in ntx.nodes:\n",
    "        net.add_node(node, **{\"label\":node},)\n",
    "\n",
    "    for edge in ntx.edges:\n",
    "        net.add_edge(edge[0], edge[1], width=1)\n",
    "    return net"
   ]
  },
  {
   "cell_type": "code",
   "execution_count": 90,
   "metadata": {},
   "outputs": [],
   "source": [
    "network = toNetwork(new_json)"
   ]
  },
  {
   "cell_type": "code",
   "execution_count": 91,
   "metadata": {},
   "outputs": [
    {
     "name": "stdout",
     "output_type": "stream",
     "text": [
      "Number of Nodes: 805\n",
      "Number of Edges: 1136\n"
     ]
    }
   ],
   "source": [
    "print(\"Number of Nodes:\", len(network.nodes))\n",
    "print(\"Number of Edges:\", len(network.edges))"
   ]
  },
  {
   "cell_type": "code",
   "execution_count": 92,
   "metadata": {},
   "outputs": [],
   "source": [
    "net = ntw_pyvis(network)"
   ]
  },
  {
   "cell_type": "code",
   "execution_count": 93,
   "metadata": {},
   "outputs": [],
   "source": [
    "# net.show_buttons(filter_=['physics'])"
   ]
  },
  {
   "cell_type": "code",
   "execution_count": 94,
   "metadata": {},
   "outputs": [],
   "source": [
    "options = \"\"\"\n",
    "const options = {\n",
    "  \"physics\": {\n",
    "    \"barnesHut\": {\n",
    "      \"gravitationalConstant\": -6300\n",
    "    },\n",
    "    \"minVelocity\": 0.75\n",
    "  }\n",
    "}\n",
    "\"\"\"\n",
    "net.set_options(options)"
   ]
  },
  {
   "cell_type": "code",
   "execution_count": 95,
   "metadata": {},
   "outputs": [
    {
     "name": "stdout",
     "output_type": "stream",
     "text": [
      "c:\\Users\\harri\\Documents\\Programming\\call_graph/cg_htmls/instaloader_graph.html\n"
     ]
    }
   ],
   "source": [
    "_ = net.show(name=OUTPUT_FILE_PATH)"
   ]
  }
 ],
 "metadata": {
  "kernelspec": {
   "display_name": "py310_notebook_env",
   "language": "python",
   "name": "python3"
  },
  "language_info": {
   "codemirror_mode": {
    "name": "ipython",
    "version": 3
   },
   "file_extension": ".py",
   "mimetype": "text/x-python",
   "name": "python",
   "nbconvert_exporter": "python",
   "pygments_lexer": "ipython3",
   "version": "3.10.14"
  },
  "orig_nbformat": 4
 },
 "nbformat": 4,
 "nbformat_minor": 2
}
